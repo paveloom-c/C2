{
 "cells": [
  {
   "cell_type": "markdown",
   "source": [
    "# Plotting the autocorrelation functions for the stars from Mathur et al. ([2014](https://www.mendeley.com/catalogue/investigating-magnetic-activity-f-stars-kepler-mission/)) and comparing observable peaks to the period values from the paper"
   ],
   "metadata": {
    "collapsed": false,
    "pycharm": {
     "name": "#%% md\n"
    }
   }
  },
  {
   "cell_type": "markdown",
   "source": [
    "Importing non-standard packages and modules:\n",
    "\n",
    "[kplr](https://github.com/dfm/kplr), [autocorr](https://github.com/dfm/emcee/blob/master/src/emcee/autocorr.py) module from [emcee](https://github.com/dfm/emcee), and [plot_setup](https://github.com/dfm/celerite/blob/master/celerite/plot_setup.py) module from [celerite](https://github.com/dfm/celerite) developed by [Daniel Foreman-Mackey](https://github.com/dfm) and other contributors;<br>\n",
    "[matplotlib](https://github.com/matplotlib/matplotlib) developed by [Michael Droettboom](https://github.com/mdboom),  [Thomas Caswell](https://github.com/tacaswell) and other contributors;<br>\n",
    "[autograd](https://github.com/HIPS/autograd) developed by [Dougal Maclaurin](https://dougalmaclaurin.com), [David Duvenaud](https://www.cs.toronto.edu/~duvenaud/), [Matt Johnson](http://people.csail.mit.edu/mattjj/), [Jamie Townsend](https://github.com/j-towns) and other contributors."
   ],
   "metadata": {
    "collapsed": false,
    "pycharm": {
     "name": "#%% md\n"
    }
   }
  },
  {
   "cell_type": "code",
   "execution_count": 4,
   "outputs": [],
   "source": [
    "import kplr # Tools for working with Kepler data\n",
    "from emcee import autocorr as ac # Autocorrelation Functions\n",
    "from celerite import plot_setup # Scalable 1D Gaussian Processes\n",
    "\n",
    "from matplotlib import rcParams as rcP, pyplot as plt # Plots\n",
    "from autograd import numpy as np # Derivatives of numpy code"
   ],
   "metadata": {
    "collapsed": false,
    "pycharm": {
     "name": "#%%\n",
     "is_executing": false
    }
   }
  },
  {
   "cell_type": "markdown",
   "source": [
    "Setting plots parameters:"
   ],
   "metadata": {
    "collapsed": false
   }
  },
  {
   "cell_type": "code",
   "execution_count": null,
   "outputs": [],
   "source": [
    "# A magic command to get inline plots within a Python Notebook\n",
    "%matplotlib inline\n",
    "\n",
    "# A magic command to enable 2x plots\n",
    "%config IPython.matplotlib.backend = \"retina\"\n",
    "\n",
    "# Setting DPIs of figures\n",
    "rcP[\"savefig.dpi\"] = 300\n",
    "rcP[\"figure.dpi\"]  = 300\n",
    "\n",
    "# Setting other plots settings\n",
    "plot_setup.setup()"
   ],
   "metadata": {
    "collapsed": false,
    "pycharm": {
     "name": "#%%\n"
    }
   }
  },
  {
   "cell_type": "markdown",
   "source": [
    "Defining a function to load data from the [Kepler Input Catalog](https://archive.stsci.edu/kepler/kic.html):"
   ],
   "metadata": {
    "collapsed": false,
    "pycharm": {
     "name": "#%% md\n"
    }
   }
  },
  {
   "cell_type": "code",
   "execution_count": 5,
   "metadata": {
    "collapsed": true,
    "pycharm": {
     "is_executing": false
    }
   },
   "outputs": [],
   "source": [
    "def get_data(kic_id):\n",
    "    \"\"\"\n",
    "    A function to get short cadence light curves data from a star\n",
    "    with specified ID from the Kepler Input Catalog \n",
    "    \n",
    "    Args:\n",
    "        kic_id: The id of a star in the Kepler Input Catalog.\n",
    "         \n",
    "    Returns:\n",
    "        array: Time values of the time series;\n",
    "        array: Pre-search Data Conditioning Simple Aperture Photometry (PDCSAP) flux values.\n",
    "        \n",
    "    \"\"\"\n",
    "\n",
    "    # Attaching the kplr API\n",
    "    client = kplr.API()\n",
    "\n",
    "    # Getting the star data\n",
    "    star = client.star(kic_id)\n",
    "\n",
    "    # Time values\n",
    "    t = []\n",
    "    \n",
    "    # Pre-search Data Conditioning Simple Aperture Photometry (PDCSAP) flux values\n",
    "    f = []\n",
    "    \n",
    "    # Getting short cadence light curves\n",
    "    for lc in star.get_light_curves(short_cadence=False):\n",
    "        \n",
    "        # Reading data from a light curve\n",
    "        data = lc.read()\n",
    "        \n",
    "        # Getting time values from the data\n",
    "        t0 = data[\"TIME\"]\n",
    "        \n",
    "        # Getting PDCSAP flux values from the data\n",
    "        f0 = data[\"PDCSAP_FLUX\"]\n",
    "        \n",
    "        # Creating a mask for only qualitative data points\n",
    "        mask = (data[\"SAP_QUALITY\"] == 0) & np.isfinite(t0) & np.isfinite(f0)\n",
    "    \n",
    "        # Appending the qualitative time data to the existing list\n",
    "        t.append(t0[mask])\n",
    "        \n",
    "        # Computing the median of the flux data\n",
    "        mu = np.median(f0[mask])\n",
    "        \n",
    "        # Scaling the qualitative flux data and appending these to the existing list\n",
    "        f.append( ( f0[mask] / mu - 1.0 ) * 1e3 )\n",
    "        \n",
    "    # Concatenating the arrays within the lists\n",
    "    \n",
    "    t = np.concatenate(t)\n",
    "    f = np.concatenate(f)\n",
    "    \n",
    "    # Getting contiguous arrays\n",
    "    \n",
    "    t = np.ascontiguousarray(t, dtype = float)\n",
    "    f = np.ascontiguousarray(f, dtype = float)\n",
    "    \n",
    "    # Returning arrays\n",
    "    \n",
    "    return t, f"
   ]
  },
  {
   "cell_type": "markdown",
   "source": [
    "Defining a function to calculate and plot the correlogram from the [Kepler](https://archive.stsci.edu/kepler/kic.html) data:"
   ],
   "metadata": {
    "collapsed": false,
    "pycharm": {
     "name": "#%% md\n"
    }
   }
  },
  {
   "cell_type": "code",
   "execution_count": null,
   "outputs": [],
   "source": [
    "def get_acf(t, f, kic_id, check_value):\n",
    "    \"\"\"\n",
    "    A function to calculate and plot the correlogram of\n",
    "    short cadence light curves data and to add the line of\n",
    "    the period value taken from Mathur et al. (2014)\n",
    "    \n",
    "    Args:\n",
    "        t: An array of time values;\n",
    "        f: An array of flux values;\n",
    "        kic_id: The id of a star in the Kepler Input Catalog;\n",
    "        check_value: The period value taken for a star referred in Mathur et al. (2014)\n",
    "    \n",
    "    \"\"\"\n",
    "    \n",
    "    # Calculating the median of the first order differences of the time array \n",
    "    delta_t = np.median(np.diff(t))\n",
    "    \n",
    "    # Interpolating values within the time array with delta_t spacing\n",
    "    f_interp = np.interp(np.arange(t.min(), t.max(), delta_t), t, f)\n",
    "    \n",
    "    # Calculating unnormalized autocorrelation function\n",
    "    corr = ac.function_1d(f_interp) * np.var(f_interp)\n",
    "\n",
    "    # Defining a lag array\n",
    "    tau = np.arange(len(corr)) * delta_t\n",
    "    \n",
    "    # Plotting data\n",
    "    plt.plot(tau, corr)\n",
    "\n",
    "    # Adding lines for specified checking period value \n",
    "    \n",
    "    plt.axvline(check_value, color=\"k\",ls=\"dashed\", alpha=0.5)\n",
    "    plt.axvline(2 * check_value, color=\"k\",ls=\"dashed\", alpha=0.5)\n",
    "    plt.axvline(3 * check_value, color=\"k\",ls=\"dashed\", alpha=0.5)\n",
    "\n",
    "    # Limitting the plot\n",
    "    plt.xlim(0, 20)\n",
    "    \n",
    "    # Setting labels\n",
    "    plt.ylabel(r\"$\\left< k(\\tau) \\right>$\")\n",
    "    plt.xlabel(r\"$\\tau$\")\n",
    "\n",
    "    # Saving the figure\n",
    "    plt.savefig(\"figures/autocorrs/\" + kic_id + \".png\", bbox_inches=\"tight\")"
   ],
   "metadata": {
    "collapsed": false,
    "pycharm": {
     "name": "#%%\n"
    }
   }
  },
  {
   "cell_type": "markdown",
   "source": [
    "[KIC 1430163](https://archive.stsci.edu/kepler/data_search/search.php?target=1430163&action=Search&outputformat=HTML_Table): 3.88 $\\pm$ 0.58 days\n"
   ],
   "metadata": {
    "collapsed": false
   }
  }
 ],
 "metadata": {
  "kernelspec": {
   "display_name": "Python 3",
   "language": "python",
   "name": "python3"
  },
  "language_info": {
   "codemirror_mode": {
    "name": "ipython",
    "version": 2
   },
   "file_extension": ".py",
   "mimetype": "text/x-python",
   "name": "python",
   "nbconvert_exporter": "python",
   "pygments_lexer": "ipython2",
   "version": "2.7.6"
  },
  "pycharm": {
   "stem_cell": {
    "cell_type": "raw",
    "source": [],
    "metadata": {
     "collapsed": false
    }
   }
  }
 },
 "nbformat": 4,
 "nbformat_minor": 0
}