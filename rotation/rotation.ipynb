{
 "cells": [
  {
   "cell_type": "markdown",
   "metadata": {},
   "source": [
    "# Inferring the rotation period of [KIC 1430163](https://archive.stsci.edu/kepler/data_search/search.php?target=1430163&action=Search&outputformat=HTML_Table) from [Kepler](https://archive.stsci.edu/kepler/) using [celerite](https://github.com/dfm/celerite) model\n",
    "\n",
    "Based on the [example](https://github.com/dfm/celerite/blob/master/paper/figures/rotation/rotation.ipynb) from Foreman-Mackey ([2017](https://ui.adsabs.harvard.edu/abs/2017AJ....154..220F/abstract)). Revised by [Pavel Sobolev](https://github.com/Paveloom) and located [here](https://github.com/Paveloom/C2)."
   ]
  },
  {
   "cell_type": "markdown",
   "metadata": {
    "pycharm": {
     "name": "#%% md\n"
    }
   },
   "source": [
    "Importing standard packages and modules:"
   ]
  },
  {
   "cell_type": "code",
   "execution_count": 1,
   "metadata": {
    "pycharm": {
     "is_executing": false,
     "name": "#%%\n"
    }
   },
   "outputs": [],
   "source": [
    "import copy # Copying\n",
    "from matplotlib import rcParams as rcp, pyplot as plt # Plots"
   ]
  },
  {
   "cell_type": "markdown",
   "metadata": {
    "pycharm": {
     "name": "#%% md\n"
    }
   },
   "source": [
    "Importing non-standard packages and modules:\n",
    "\n",
    "[kplr](https://github.com/dfm/kplr), [corner](https://github.com/dfm/corner.py), [emcee](https://github.com/dfm/emcee) and [celerite](https://github.com/dfm/celerite) developed by [Daniel Foreman-Mackey](https://github.com/dfm) and other contributors;<br>\n",
    "[autograd](https://github.com/HIPS/autograd) developed by [Dougal Maclaurin](https://dougalmaclaurin.com), [David Duvenaud](https://www.cs.toronto.edu/~duvenaud/), [Matt Johnson](http://people.csail.mit.edu/mattjj/), [Jamie Townsend](https://github.com/j-towns) and other contributors;<br>\n",
    "[optimization](https://github.com/scipy/scipy/tree/master/scipy/optimize) module from [scipy](https://github.com/scipy/scipy) developed by contributors."
   ]
  },
  {
   "cell_type": "code",
   "execution_count": 2,
   "metadata": {
    "pycharm": {
     "is_executing": false,
     "name": "#%%\n"
    }
   },
   "outputs": [],
   "source": [
    "import kplr # Tools for working with Kepler data\n",
    "import corner # Tools for making corner plots\n",
    "import emcee # The Python ensemble sampling toolkit for affine-invariant MCMC\n",
    "from celerite import plot_setup, terms # Scalable 1D Gaussian Processes\n",
    "\n",
    "from autograd import numpy as np # Derivatives of numpy code\n",
    "from scipy.optimize import minimize # Minimization of a scalar function"
   ]
  },
  {
   "cell_type": "markdown",
   "metadata": {
    "pycharm": {
     "name": "#%% md\n"
    }
   },
   "source": [
    "Setting plots parameters:"
   ]
  },
  {
   "cell_type": "code",
   "execution_count": 3,
   "metadata": {
    "pycharm": {
     "is_executing": false,
     "name": "#%%\n"
    }
   },
   "outputs": [],
   "source": [
    "# A magic command to get inline plots within a Python Notebook\n",
    "%matplotlib inline\n",
    "\n",
    "# A magic command to enable 2x plots\n",
    "%config IPython.matplotlib.backend = \"retina\"\n",
    "\n",
    "# Setting DPIs of figures\n",
    "rcp[\"savefig.dpi\"] = 300\n",
    "rcp[\"figure.dpi\"]  = 300\n",
    "\n",
    "# Setting other plots settings\n",
    "plot_setup.setup(auto=False)"
   ]
  },
  {
   "cell_type": "markdown",
   "source": [
    "Loading sample data from [KIC](https://archive.stsci.edu/kepler/kic.html) (field descriptors are taken from [Kepler Archive Manual](https://archive.stsci.edu/files/live/sites/mast/files/home/missions-and-data/kepler/_documents/archive_manual.pdf)):"
   ],
   "metadata": {
    "collapsed": false,
    "pycharm": {
     "name": "#%% md\n"
    }
   }
  },
  {
   "cell_type": "code",
   "source": [
    "# The ID of a star from the Kepler Input Catalog\n",
    "KIC_ID = 1430163\n",
    "\n",
    "# Attaching the kplr API\n",
    "client = kplr.API()\n",
    "\n",
    "# Getting the star data\n",
    "star = client.star(KIC_ID)\n",
    "\n",
    "# Time\n",
    "t = []\n",
    "\n",
    "# Pre-search Data Conditioning Simple Aperture Photometry (PDCSAP) flux\n",
    "f = []\n",
    "\n",
    "# The 1-sigma error in PDC flux values\n",
    "ferr = []\n",
    "\n",
    "# Getting short cadence light curves\n",
    "for lc in star.get_light_curves(short_cadence=False):\n",
    "    \n",
    "    # Reading data from a light curve\n",
    "    data = lc.read()\n",
    "    \n",
    "    # Getting time values from the data\n",
    "    t0 = data[\"TIME\"]\n",
    "    \n",
    "    # Getting PDCSAP flux values from the data\n",
    "    f0 = data[\"PDCSAP_FLUX\"]\n",
    "    \n",
    "    # Creating a mask for only qualitative data points\n",
    "    mask = (data[\"SAP_QUALITY\"] == 0) & np.isfinite(t0) & np.isfinite(f0)\n",
    "\n",
    "    # Appending the qualitative time data to the existing list\n",
    "    t.append(t0[mask])\n",
    "    \n",
    "    # Computing the median of the flux data\n",
    "    mu = np.median(f0[mask])\n",
    "    \n",
    "    # Scaling the qualitative flux data and appending it to the existing list\n",
    "    f.append( ( f0[mask] / mu - 1.0 ) * 1e3 )\n",
    "    \n",
    "    # Scaling the qualitative flux error data and appending it to the existing list\n",
    "    ferr.append( data[\"PDCSAP_FLUX_ERR\"][mask] / mu * 1e3 )\n",
    "    \n",
    "# Concatenating the arrays within the lists\n",
    "\n",
    "t = np.concatenate(t)\n",
    "f = np.concatenate(f)\n",
    "ferr = np.concatenate(ferr)\n",
    "\n",
    "# Getting contiguous arrays\n",
    "\n",
    "t = np.ascontiguousarray(t, dtype = float)\n",
    "f = np.ascontiguousarray(f, dtype = float)\n",
    "ferr = np.ascontiguousarray(ferr, dtype = float)"
   ],
   "metadata": {
    "collapsed": false,
    "pycharm": {
     "name": "#%%\n",
     "is_executing": false
    }
   },
   "execution_count": 4,
   "outputs": []
  }
 ],
 "metadata": {
  "kernelspec": {
   "display_name": "Python 3",
   "language": "python",
   "name": "python3"
  },
  "language_info": {
   "codemirror_mode": {
    "name": "ipython",
    "version": 3
   },
   "file_extension": ".py",
   "mimetype": "text/x-python",
   "name": "python",
   "nbconvert_exporter": "python",
   "pygments_lexer": "ipython3",
   "version": "3.7.4"
  },
  "pycharm": {
   "stem_cell": {
    "cell_type": "raw",
    "source": [],
    "metadata": {
     "collapsed": false
    }
   }
  }
 },
 "nbformat": 4,
 "nbformat_minor": 1
}